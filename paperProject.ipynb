{
  "nbformat": 4,
  "nbformat_minor": 0,
  "metadata": {
    "colab": {
      "name": "paperProject.ipynb",
      "provenance": []
    },
    "kernelspec": {
      "name": "python3",
      "display_name": "Python 3"
    },
    "accelerator": "GPU"
  },
  "cells": [
    {
      "cell_type": "code",
      "metadata": {
        "id": "qpWw7JuqsUuM",
        "colab_type": "code",
        "colab": {
          "base_uri": "https://localhost:8080/",
          "height": 54
        },
        "outputId": "21132bd2-6046-4b1c-bdd5-ec2c029639f2"
      },
      "source": [
        "from google.colab import drive\n",
        "drive.mount('/content/gdrive')"
      ],
      "execution_count": null,
      "outputs": [
        {
          "output_type": "stream",
          "text": [
            "Drive already mounted at /content/gdrive; to attempt to forcibly remount, call drive.mount(\"/content/gdrive\", force_remount=True).\n"
          ],
          "name": "stdout"
        }
      ]
    },
    {
      "cell_type": "code",
      "metadata": {
        "id": "G8pvN_Rfs9X3",
        "colab_type": "code",
        "colab": {
          "base_uri": "https://localhost:8080/",
          "height": 71
        },
        "outputId": "f55864ab-a8a6-4ff3-f53c-60ab70057ada"
      },
      "source": [
        "# importing necessary libries\n",
        "import pandas as pd\n",
        "import numpy as np\n",
        "import matplotlib.pyplot as plt\n",
        "import seaborn as sns"
      ],
      "execution_count": null,
      "outputs": [
        {
          "output_type": "stream",
          "text": [
            "/usr/local/lib/python3.6/dist-packages/statsmodels/tools/_testing.py:19: FutureWarning: pandas.util.testing is deprecated. Use the functions in the public API at pandas.testing instead.\n",
            "  import pandas.util.testing as tm\n"
          ],
          "name": "stderr"
        }
      ]
    },
    {
      "cell_type": "code",
      "metadata": {
        "id": "_qk0amR9s_Qn",
        "colab_type": "code",
        "colab": {}
      },
      "source": [
        "df=pd.read_csv('/content/gdrive/My Drive/ProjectForPaper/Dataset/covid_data.csv')"
      ],
      "execution_count": null,
      "outputs": []
    },
    {
      "cell_type": "code",
      "metadata": {
        "id": "Z9ImbMHFtP4Y",
        "colab_type": "code",
        "colab": {
          "base_uri": "https://localhost:8080/",
          "height": 204
        },
        "outputId": "536630fb-ef02-4dc3-a89a-8ffdd80c12a8"
      },
      "source": [
        "df.head()"
      ],
      "execution_count": null,
      "outputs": [
        {
          "output_type": "execute_result",
          "data": {
            "text/html": [
              "<div>\n",
              "<style scoped>\n",
              "    .dataframe tbody tr th:only-of-type {\n",
              "        vertical-align: middle;\n",
              "    }\n",
              "\n",
              "    .dataframe tbody tr th {\n",
              "        vertical-align: top;\n",
              "    }\n",
              "\n",
              "    .dataframe thead th {\n",
              "        text-align: right;\n",
              "    }\n",
              "</style>\n",
              "<table border=\"1\" class=\"dataframe\">\n",
              "  <thead>\n",
              "    <tr style=\"text-align: right;\">\n",
              "      <th></th>\n",
              "      <th>tweet_id</th>\n",
              "      <th>created_at</th>\n",
              "      <th>text</th>\n",
              "      <th>loc</th>\n",
              "      <th>user_id</th>\n",
              "      <th>verified</th>\n",
              "    </tr>\n",
              "  </thead>\n",
              "  <tbody>\n",
              "    <tr>\n",
              "      <th>0</th>\n",
              "      <td>1235681413485207552</td>\n",
              "      <td>2020-03-05 21:39:41+00:00</td>\n",
              "      <td>stayfrea alert corona virus spread through mon...</td>\n",
              "      <td>MI</td>\n",
              "      <td>u1</td>\n",
              "      <td>0</td>\n",
              "    </tr>\n",
              "    <tr>\n",
              "      <th>1</th>\n",
              "      <td>1235681419554213888</td>\n",
              "      <td>2020-03-05 21:39:42+00:00</td>\n",
              "      <td>matrodamusic corona virus temporary house musi...</td>\n",
              "      <td>UT</td>\n",
              "      <td>u2</td>\n",
              "      <td>0</td>\n",
              "    </tr>\n",
              "    <tr>\n",
              "      <th>2</th>\n",
              "      <td>1235681419558637568</td>\n",
              "      <td>2020-03-05 21:39:42+00:00</td>\n",
              "      <td>gainbos whole entire world corona virus danger...</td>\n",
              "      <td>TX</td>\n",
              "      <td>u3</td>\n",
              "      <td>0</td>\n",
              "    </tr>\n",
              "    <tr>\n",
              "      <th>3</th>\n",
              "      <td>1235681424809705472</td>\n",
              "      <td>2020-03-05 21:39:44+00:00</td>\n",
              "      <td>ellanjeferguson krystallsheree corona virus</td>\n",
              "      <td>MA</td>\n",
              "      <td>u4</td>\n",
              "      <td>0</td>\n",
              "    </tr>\n",
              "    <tr>\n",
              "      <th>4</th>\n",
              "      <td>1235681424809680896</td>\n",
              "      <td>2020-03-05 21:39:44+00:00</td>\n",
              "      <td>bradleoy corona virus said https wwfteavdch</td>\n",
              "      <td>NJ</td>\n",
              "      <td>u5</td>\n",
              "      <td>0</td>\n",
              "    </tr>\n",
              "  </tbody>\n",
              "</table>\n",
              "</div>"
            ],
            "text/plain": [
              "              tweet_id                 created_at  ... user_id verified\n",
              "0  1235681413485207552  2020-03-05 21:39:41+00:00  ...      u1        0\n",
              "1  1235681419554213888  2020-03-05 21:39:42+00:00  ...      u2        0\n",
              "2  1235681419558637568  2020-03-05 21:39:42+00:00  ...      u3        0\n",
              "3  1235681424809705472  2020-03-05 21:39:44+00:00  ...      u4        0\n",
              "4  1235681424809680896  2020-03-05 21:39:44+00:00  ...      u5        0\n",
              "\n",
              "[5 rows x 6 columns]"
            ]
          },
          "metadata": {
            "tags": []
          },
          "execution_count": 10
        }
      ]
    },
    {
      "cell_type": "code",
      "metadata": {
        "id": "v6TuvMd2tRAN",
        "colab_type": "code",
        "colab": {
          "base_uri": "https://localhost:8080/",
          "height": 34
        },
        "outputId": "0e90ca9a-207e-4915-eece-e0e0ffaf5174"
      },
      "source": [
        "df.shape"
      ],
      "execution_count": null,
      "outputs": [
        {
          "output_type": "execute_result",
          "data": {
            "text/plain": [
              "(7229508, 6)"
            ]
          },
          "metadata": {
            "tags": []
          },
          "execution_count": 11
        }
      ]
    },
    {
      "cell_type": "code",
      "metadata": {
        "id": "K40z2VSPtTRb",
        "colab_type": "code",
        "colab": {
          "base_uri": "https://localhost:8080/",
          "height": 34
        },
        "outputId": "cf41fcbb-799a-4712-b1c2-35beb229f9c9"
      },
      "source": [
        "df.columns"
      ],
      "execution_count": null,
      "outputs": [
        {
          "output_type": "execute_result",
          "data": {
            "text/plain": [
              "Index(['tweet_id', 'created_at', 'text', 'loc', 'user_id', 'verified'], dtype='object')"
            ]
          },
          "metadata": {
            "tags": []
          },
          "execution_count": 12
        }
      ]
    },
    {
      "cell_type": "code",
      "metadata": {
        "id": "mtfdSPnntUOV",
        "colab_type": "code",
        "colab": {}
      },
      "source": [
        "#droping all columns except text column\n",
        "data=df.drop(['tweet_id','created_at','user_id','verified','loc'], axis=1)"
      ],
      "execution_count": null,
      "outputs": []
    },
    {
      "cell_type": "markdown",
      "metadata": {
        "id": "HqXrcM09yPS6",
        "colab_type": "text"
      },
      "source": [
        "- For now we will perform only sentiment analysis so we drop all columns except text column"
      ]
    },
    {
      "cell_type": "code",
      "metadata": {
        "id": "jJFc1E6ztbCt",
        "colab_type": "code",
        "colab": {
          "base_uri": "https://localhost:8080/",
          "height": 204
        },
        "outputId": "951dc1ce-e016-4a0c-d232-307867e404bf"
      },
      "source": [
        "data.head()"
      ],
      "execution_count": null,
      "outputs": [
        {
          "output_type": "execute_result",
          "data": {
            "text/html": [
              "<div>\n",
              "<style scoped>\n",
              "    .dataframe tbody tr th:only-of-type {\n",
              "        vertical-align: middle;\n",
              "    }\n",
              "\n",
              "    .dataframe tbody tr th {\n",
              "        vertical-align: top;\n",
              "    }\n",
              "\n",
              "    .dataframe thead th {\n",
              "        text-align: right;\n",
              "    }\n",
              "</style>\n",
              "<table border=\"1\" class=\"dataframe\">\n",
              "  <thead>\n",
              "    <tr style=\"text-align: right;\">\n",
              "      <th></th>\n",
              "      <th>text</th>\n",
              "    </tr>\n",
              "  </thead>\n",
              "  <tbody>\n",
              "    <tr>\n",
              "      <th>0</th>\n",
              "      <td>stayfrea alert corona virus spread through mon...</td>\n",
              "    </tr>\n",
              "    <tr>\n",
              "      <th>1</th>\n",
              "      <td>matrodamusic corona virus temporary house musi...</td>\n",
              "    </tr>\n",
              "    <tr>\n",
              "      <th>2</th>\n",
              "      <td>gainbos whole entire world corona virus danger...</td>\n",
              "    </tr>\n",
              "    <tr>\n",
              "      <th>3</th>\n",
              "      <td>ellanjeferguson krystallsheree corona virus</td>\n",
              "    </tr>\n",
              "    <tr>\n",
              "      <th>4</th>\n",
              "      <td>bradleoy corona virus said https wwfteavdch</td>\n",
              "    </tr>\n",
              "  </tbody>\n",
              "</table>\n",
              "</div>"
            ],
            "text/plain": [
              "                                                text\n",
              "0  stayfrea alert corona virus spread through mon...\n",
              "1  matrodamusic corona virus temporary house musi...\n",
              "2  gainbos whole entire world corona virus danger...\n",
              "3        ellanjeferguson krystallsheree corona virus\n",
              "4        bradleoy corona virus said https wwfteavdch"
            ]
          },
          "metadata": {
            "tags": []
          },
          "execution_count": 14
        }
      ]
    },
    {
      "cell_type": "markdown",
      "metadata": {
        "id": "zUtNrgz0yUep",
        "colab_type": "text"
      },
      "source": [
        "# For less computing power we will use first 200k rows for further analysis"
      ]
    },
    {
      "cell_type": "code",
      "metadata": {
        "id": "HDjTWKEEteXU",
        "colab_type": "code",
        "colab": {}
      },
      "source": [
        "# taking frist 200k rows and drop remain rows\n",
        "data=data.iloc[:200000,:]"
      ],
      "execution_count": null,
      "outputs": []
    },
    {
      "cell_type": "markdown",
      "metadata": {
        "id": "1LGjpHYzyZ4y",
        "colab_type": "text"
      },
      "source": [
        "# Text Preprocessing: Stemming, Stop-word removal and Lemmatization\n",
        "Hence in the prepocessing phase we do the following in the oreder below:-\n",
        "- Begin by removing html tags ( text in the <> )\n",
        "- Remove any pucntions or limited set of special characters like, or . or # etc.\n",
        "- Check if the word is made up of english letters and is not alpha-numeric.\n",
        "- Check to see if the length of the word is greater than 2 (as it was researched that there is no adjective in 2-letter)\n",
        "- Convert the word to lowercase\n",
        "- Remove StopWords.\n",
        "- Finally Snowball Stemming the word(it observed to be better that Poter Stemming)"
      ]
    },
    {
      "cell_type": "code",
      "metadata": {
        "id": "M6EYn2pItpF6",
        "colab_type": "code",
        "colab": {
          "base_uri": "https://localhost:8080/",
          "height": 68
        },
        "outputId": "21934a6f-a58c-45ec-d90e-fd92d41a5aef"
      },
      "source": [
        "import nltk\n",
        "nltk.download('stopwords')"
      ],
      "execution_count": null,
      "outputs": [
        {
          "output_type": "stream",
          "text": [
            "[nltk_data] Downloading package stopwords to /root/nltk_data...\n",
            "[nltk_data]   Package stopwords is already up-to-date!\n"
          ],
          "name": "stdout"
        },
        {
          "output_type": "execute_result",
          "data": {
            "text/plain": [
              "True"
            ]
          },
          "metadata": {
            "tags": []
          },
          "execution_count": 16
        }
      ]
    },
    {
      "cell_type": "code",
      "metadata": {
        "id": "rSTCg3gKtugz",
        "colab_type": "code",
        "colab": {}
      },
      "source": [
        "import re\n",
        "import string\n",
        "\n",
        "from nltk.corpus import stopwords\n",
        "from nltk.stem import PorterStemmer \n",
        "from nltk.stem.wordnet import WordNetLemmatizer \n",
        "stop = set(stopwords.words('english')) # set of stopwords in english\n",
        "sno = nltk.stem.SnowballStemmer('english') # initialising the snowball stemmer\n",
        "\n",
        "def cleanhtml(sentence): #function to clean the word of any html-tags\n",
        "  cleanr = re.compile('<.*?>')\n",
        "  cleantext = re.sub(cleanr, ' ', sentence)\n",
        "  return cleantext\n",
        "\n",
        "def cleanpunc(sentence): # funciton to clean word of any punction or symbol\n",
        "  cleaned = re.sub(r'[?|!|\\'|\"|#|*|_]',r'',sentence)\n",
        "  cleaned = re.sub(r'[.|,|)|(|\\|/]',r'',cleaned)\n",
        "  return cleaned"
      ],
      "execution_count": null,
      "outputs": []
    },
    {
      "cell_type": "code",
      "metadata": {
        "id": "1_J56vAZtyM9",
        "colab_type": "code",
        "colab": {}
      },
      "source": [
        "#Code for implementing step-by-step the checks mentioned in the pre-processing phase\n",
        "\n",
        "text=' '\n",
        "final_string=[]\n",
        "s=''\n",
        "for sent in data['text'].values:\n",
        "    filtered_sentence=[]\n",
        "    #print(sent);\n",
        "    sent=cleanhtml(sent) # remove HTMl tags\n",
        "    for w in sent.split():\n",
        "        for cleaned_words in cleanpunc(w).split():\n",
        "            if((cleaned_words.isalpha()) & (len(cleaned_words)>2)):    \n",
        "                if(cleaned_words.lower() not in stop):\n",
        "                    s=(sno.stem(cleaned_words.lower()))\n",
        "                    filtered_sentence.append(s)\n",
        "                    \n",
        "                else:\n",
        "                    continue\n",
        "            else:\n",
        "                continue \n",
        "    #print(filtered_sentence)\n",
        "    text =\" \".join(filtered_sentence) #final string of cleaned words\n",
        "    #print(\"***********************************************************************\")\n",
        "    \n",
        "    final_string.append(text)"
      ],
      "execution_count": null,
      "outputs": []
    },
    {
      "cell_type": "code",
      "metadata": {
        "id": "6GhuI1MYuKoq",
        "colab_type": "code",
        "colab": {}
      },
      "source": [
        "data['CleanedText']=final_string"
      ],
      "execution_count": null,
      "outputs": []
    },
    {
      "cell_type": "code",
      "metadata": {
        "id": "iZKKZCuwuPmF",
        "colab_type": "code",
        "colab": {
          "base_uri": "https://localhost:8080/",
          "height": 204
        },
        "outputId": "b6c311b5-293a-4840-c263-87abf5904968"
      },
      "source": [
        "data.head()"
      ],
      "execution_count": null,
      "outputs": [
        {
          "output_type": "execute_result",
          "data": {
            "text/html": [
              "<div>\n",
              "<style scoped>\n",
              "    .dataframe tbody tr th:only-of-type {\n",
              "        vertical-align: middle;\n",
              "    }\n",
              "\n",
              "    .dataframe tbody tr th {\n",
              "        vertical-align: top;\n",
              "    }\n",
              "\n",
              "    .dataframe thead th {\n",
              "        text-align: right;\n",
              "    }\n",
              "</style>\n",
              "<table border=\"1\" class=\"dataframe\">\n",
              "  <thead>\n",
              "    <tr style=\"text-align: right;\">\n",
              "      <th></th>\n",
              "      <th>text</th>\n",
              "      <th>CleanedText</th>\n",
              "    </tr>\n",
              "  </thead>\n",
              "  <tbody>\n",
              "    <tr>\n",
              "      <th>0</th>\n",
              "      <td>stayfrea alert corona virus spread through mon...</td>\n",
              "      <td>stayfrea alert corona virus spread money money...</td>\n",
              "    </tr>\n",
              "    <tr>\n",
              "      <th>1</th>\n",
              "      <td>matrodamusic corona virus temporary house musi...</td>\n",
              "      <td>matrodamus corona virus temporari hous music f...</td>\n",
              "    </tr>\n",
              "    <tr>\n",
              "      <th>2</th>\n",
              "      <td>gainbos whole entire world corona virus danger...</td>\n",
              "      <td>gainbo whole entir world corona virus danger j...</td>\n",
              "    </tr>\n",
              "    <tr>\n",
              "      <th>3</th>\n",
              "      <td>ellanjeferguson krystallsheree corona virus</td>\n",
              "      <td>ellanjeferguson krystallshere corona virus</td>\n",
              "    </tr>\n",
              "    <tr>\n",
              "      <th>4</th>\n",
              "      <td>bradleoy corona virus said https wwfteavdch</td>\n",
              "      <td>bradleoy corona virus said https wwfteavdch</td>\n",
              "    </tr>\n",
              "  </tbody>\n",
              "</table>\n",
              "</div>"
            ],
            "text/plain": [
              "                                                text                                        CleanedText\n",
              "0  stayfrea alert corona virus spread through mon...  stayfrea alert corona virus spread money money...\n",
              "1  matrodamusic corona virus temporary house musi...  matrodamus corona virus temporari hous music f...\n",
              "2  gainbos whole entire world corona virus danger...  gainbo whole entir world corona virus danger j...\n",
              "3        ellanjeferguson krystallsheree corona virus         ellanjeferguson krystallshere corona virus\n",
              "4        bradleoy corona virus said https wwfteavdch        bradleoy corona virus said https wwfteavdch"
            ]
          },
          "metadata": {
            "tags": []
          },
          "execution_count": 20
        }
      ]
    },
    {
      "cell_type": "markdown",
      "metadata": {
        "id": "JWwGpcWly05Q",
        "colab_type": "text"
      },
      "source": [
        "### After droping text column"
      ]
    },
    {
      "cell_type": "code",
      "metadata": {
        "id": "18FomwSEugQu",
        "colab_type": "code",
        "colab": {
          "base_uri": "https://localhost:8080/",
          "height": 419
        },
        "outputId": "bd1d2163-65a0-4df9-83de-86cb9ac1f414"
      },
      "source": [
        "data"
      ],
      "execution_count": null,
      "outputs": [
        {
          "output_type": "execute_result",
          "data": {
            "text/html": [
              "<div>\n",
              "<style scoped>\n",
              "    .dataframe tbody tr th:only-of-type {\n",
              "        vertical-align: middle;\n",
              "    }\n",
              "\n",
              "    .dataframe tbody tr th {\n",
              "        vertical-align: top;\n",
              "    }\n",
              "\n",
              "    .dataframe thead th {\n",
              "        text-align: right;\n",
              "    }\n",
              "</style>\n",
              "<table border=\"1\" class=\"dataframe\">\n",
              "  <thead>\n",
              "    <tr style=\"text-align: right;\">\n",
              "      <th></th>\n",
              "      <th>text</th>\n",
              "      <th>CleanedText</th>\n",
              "    </tr>\n",
              "  </thead>\n",
              "  <tbody>\n",
              "    <tr>\n",
              "      <th>0</th>\n",
              "      <td>stayfrea alert corona virus spread through mon...</td>\n",
              "      <td>stayfrea alert corona virus spread money money...</td>\n",
              "    </tr>\n",
              "    <tr>\n",
              "      <th>1</th>\n",
              "      <td>matrodamusic corona virus temporary house musi...</td>\n",
              "      <td>matrodamus corona virus temporari hous music f...</td>\n",
              "    </tr>\n",
              "    <tr>\n",
              "      <th>2</th>\n",
              "      <td>gainbos whole entire world corona virus danger...</td>\n",
              "      <td>gainbo whole entir world corona virus danger j...</td>\n",
              "    </tr>\n",
              "    <tr>\n",
              "      <th>3</th>\n",
              "      <td>ellanjeferguson krystallsheree corona virus</td>\n",
              "      <td>ellanjeferguson krystallshere corona virus</td>\n",
              "    </tr>\n",
              "    <tr>\n",
              "      <th>4</th>\n",
              "      <td>bradleoy corona virus said https wwfteavdch</td>\n",
              "      <td>bradleoy corona virus said https wwfteavdch</td>\n",
              "    </tr>\n",
              "    <tr>\n",
              "      <th>...</th>\n",
              "      <td>...</td>\n",
              "      <td>...</td>\n",
              "    </tr>\n",
              "    <tr>\n",
              "      <th>199995</th>\n",
              "      <td>f_desouche coronavirus détecté grecque lesbos ...</td>\n",
              "      <td>fdesouch coronavirus détecté grecqu lesbo http...</td>\n",
              "    </tr>\n",
              "    <tr>\n",
              "      <th>199996</th>\n",
              "      <td>foxnews will turn back your channel when quit ...</td>\n",
              "      <td>foxnew turn back channel quit report corona virus</td>\n",
              "    </tr>\n",
              "    <tr>\n",
              "      <th>199997</th>\n",
              "      <td>lovelywontons wah_fulls reading email saying c...</td>\n",
              "      <td>lovelywonton wahful read email say corona viru...</td>\n",
              "    </tr>\n",
              "    <tr>\n",
              "      <th>199998</th>\n",
              "      <td>will eradicate corona ruining everything</td>\n",
              "      <td>erad corona ruin everyth</td>\n",
              "    </tr>\n",
              "    <tr>\n",
              "      <th>199999</th>\n",
              "      <td>therightmelissa realdonaldtrump empire strikin...</td>\n",
              "      <td>therightmelissa realdonaldtrump empir strike b...</td>\n",
              "    </tr>\n",
              "  </tbody>\n",
              "</table>\n",
              "<p>200000 rows × 2 columns</p>\n",
              "</div>"
            ],
            "text/plain": [
              "                                                     text                                        CleanedText\n",
              "0       stayfrea alert corona virus spread through mon...  stayfrea alert corona virus spread money money...\n",
              "1       matrodamusic corona virus temporary house musi...  matrodamus corona virus temporari hous music f...\n",
              "2       gainbos whole entire world corona virus danger...  gainbo whole entir world corona virus danger j...\n",
              "3             ellanjeferguson krystallsheree corona virus         ellanjeferguson krystallshere corona virus\n",
              "4             bradleoy corona virus said https wwfteavdch        bradleoy corona virus said https wwfteavdch\n",
              "...                                                   ...                                                ...\n",
              "199995  f_desouche coronavirus détecté grecque lesbos ...  fdesouch coronavirus détecté grecqu lesbo http...\n",
              "199996  foxnews will turn back your channel when quit ...  foxnew turn back channel quit report corona virus\n",
              "199997  lovelywontons wah_fulls reading email saying c...  lovelywonton wahful read email say corona viru...\n",
              "199998           will eradicate corona ruining everything                           erad corona ruin everyth\n",
              "199999  therightmelissa realdonaldtrump empire strikin...  therightmelissa realdonaldtrump empir strike b...\n",
              "\n",
              "[200000 rows x 2 columns]"
            ]
          },
          "metadata": {
            "tags": []
          },
          "execution_count": 21
        }
      ]
    },
    {
      "cell_type": "code",
      "metadata": {
        "id": "QfHtEdhyvG3J",
        "colab_type": "code",
        "colab": {}
      },
      "source": [
        "data.to_csv('cleanTwitte.csv')"
      ],
      "execution_count": null,
      "outputs": []
    },
    {
      "cell_type": "markdown",
      "metadata": {
        "id": "mCvI12u-y-Na",
        "colab_type": "text"
      },
      "source": [
        "We got our clean data set.Now we can perform Sentiment analysis"
      ]
    },
    {
      "cell_type": "code",
      "metadata": {
        "id": "QFj5Neu4ugzU",
        "colab_type": "code",
        "colab": {}
      },
      "source": [
        "# importing libries for sentiment analysis\n",
        "from textblob import TextBlob\n",
        "from wordcloud import WordCloud"
      ],
      "execution_count": null,
      "outputs": []
    },
    {
      "cell_type": "code",
      "metadata": {
        "id": "mEvs6TDivWPZ",
        "colab_type": "code",
        "colab": {}
      },
      "source": [
        "# Create a function to get subjectivity and polarity\n",
        "\n",
        "def getSubjectivity(text):\n",
        "    return TextBlob(text).sentiment.subjectivity\n",
        "\n",
        "#Create a function to get polarity\n",
        "def getPolarity(text):\n",
        "    return TextBlob(text).sentiment.polarity\n",
        "\n",
        "#create two new ccolumns\n",
        "\n",
        "data['Subjectivity']=data['CleanedText'].apply(getSubjectivity)\n",
        "data['Polarity']=data['CleanedText'].apply(getPolarity)"
      ],
      "execution_count": null,
      "outputs": []
    },
    {
      "cell_type": "code",
      "metadata": {
        "id": "VkJUe1olw4cd",
        "colab_type": "code",
        "colab": {
          "base_uri": "https://localhost:8080/",
          "height": 204
        },
        "outputId": "e562c159-6c37-4751-9754-7da3d1ac1476"
      },
      "source": [
        "data.head()"
      ],
      "execution_count": null,
      "outputs": [
        {
          "output_type": "execute_result",
          "data": {
            "text/html": [
              "<div>\n",
              "<style scoped>\n",
              "    .dataframe tbody tr th:only-of-type {\n",
              "        vertical-align: middle;\n",
              "    }\n",
              "\n",
              "    .dataframe tbody tr th {\n",
              "        vertical-align: top;\n",
              "    }\n",
              "\n",
              "    .dataframe thead th {\n",
              "        text-align: right;\n",
              "    }\n",
              "</style>\n",
              "<table border=\"1\" class=\"dataframe\">\n",
              "  <thead>\n",
              "    <tr style=\"text-align: right;\">\n",
              "      <th></th>\n",
              "      <th>text</th>\n",
              "      <th>CleanedText</th>\n",
              "      <th>Subjectivity</th>\n",
              "      <th>Polarity</th>\n",
              "    </tr>\n",
              "  </thead>\n",
              "  <tbody>\n",
              "    <tr>\n",
              "      <th>0</th>\n",
              "      <td>stayfrea alert corona virus spread through mon...</td>\n",
              "      <td>stayfrea alert corona virus spread money money...</td>\n",
              "      <td>0.0</td>\n",
              "      <td>0.0</td>\n",
              "    </tr>\n",
              "    <tr>\n",
              "      <th>1</th>\n",
              "      <td>matrodamusic corona virus temporary house musi...</td>\n",
              "      <td>matrodamus corona virus temporari hous music f...</td>\n",
              "      <td>0.0</td>\n",
              "      <td>0.0</td>\n",
              "    </tr>\n",
              "    <tr>\n",
              "      <th>2</th>\n",
              "      <td>gainbos whole entire world corona virus danger...</td>\n",
              "      <td>gainbo whole entir world corona virus danger j...</td>\n",
              "      <td>0.4</td>\n",
              "      <td>0.2</td>\n",
              "    </tr>\n",
              "    <tr>\n",
              "      <th>3</th>\n",
              "      <td>ellanjeferguson krystallsheree corona virus</td>\n",
              "      <td>ellanjeferguson krystallshere corona virus</td>\n",
              "      <td>0.0</td>\n",
              "      <td>0.0</td>\n",
              "    </tr>\n",
              "    <tr>\n",
              "      <th>4</th>\n",
              "      <td>bradleoy corona virus said https wwfteavdch</td>\n",
              "      <td>bradleoy corona virus said https wwfteavdch</td>\n",
              "      <td>0.0</td>\n",
              "      <td>0.0</td>\n",
              "    </tr>\n",
              "  </tbody>\n",
              "</table>\n",
              "</div>"
            ],
            "text/plain": [
              "                                                text  ... Polarity\n",
              "0  stayfrea alert corona virus spread through mon...  ...      0.0\n",
              "1  matrodamusic corona virus temporary house musi...  ...      0.0\n",
              "2  gainbos whole entire world corona virus danger...  ...      0.2\n",
              "3        ellanjeferguson krystallsheree corona virus  ...      0.0\n",
              "4        bradleoy corona virus said https wwfteavdch  ...      0.0\n",
              "\n",
              "[5 rows x 4 columns]"
            ]
          },
          "metadata": {
            "tags": []
          },
          "execution_count": 25
        }
      ]
    },
    {
      "cell_type": "code",
      "metadata": {
        "id": "vaLQVi1Vw6fu",
        "colab_type": "code",
        "colab": {
          "base_uri": "https://localhost:8080/",
          "height": 232
        },
        "outputId": "8fedc263-324d-4ee4-9816-cb1b3f35b8d3"
      },
      "source": [
        "\n",
        "#Ploting Word cloud\n",
        "allWords=''.join([twts for twts in data['CleanedText']])\n",
        "wordCloud=WordCloud(width=500,height=300,random_state=21,max_font_size=119).generate(allWords)\n",
        "plt.imshow(wordCloud,interpolation='bilinear')\n",
        "plt.axis('off')\n",
        "plt.show()"
      ],
      "execution_count": null,
      "outputs": [
        {
          "output_type": "display_data",
          "data": {
            "image/png": "[encoded data removed]",
            "text/plain": [
              "<Figure size 432x288 with 1 Axes>"
            ]
          },
          "metadata": {
            "tags": [],
            "needs_background": "light"
          }
        }
      ]
    },
    {
      "cell_type": "code",
      "metadata": {
        "id": "AV8ohrz5xNf7",
        "colab_type": "code",
        "colab": {}
      },
      "source": [
        "# Create function to compute the negative ,neutral and positive analysis\n",
        "def getAnalysis(score):\n",
        "    if score <0:\n",
        "        return 'Negative'\n",
        "    elif score ==0:\n",
        "        return 'Neutral'\n",
        "    else:\n",
        "        return 'Positive'\n",
        "data['Analysis']=data['Polarity'].apply(getAnalysis)"
      ],
      "execution_count": null,
      "outputs": []
    },
    {
      "cell_type": "code",
      "metadata": {
        "id": "2XmbSo5gxX0y",
        "colab_type": "code",
        "colab": {
          "base_uri": "https://localhost:8080/",
          "height": 238
        },
        "outputId": "7b9c4dc0-8e37-43ff-9e05-de7911033924"
      },
      "source": [
        "data.head()"
      ],
      "execution_count": null,
      "outputs": [
        {
          "output_type": "execute_result",
          "data": {
            "text/html": [
              "<div>\n",
              "<style scoped>\n",
              "    .dataframe tbody tr th:only-of-type {\n",
              "        vertical-align: middle;\n",
              "    }\n",
              "\n",
              "    .dataframe tbody tr th {\n",
              "        vertical-align: top;\n",
              "    }\n",
              "\n",
              "    .dataframe thead th {\n",
              "        text-align: right;\n",
              "    }\n",
              "</style>\n",
              "<table border=\"1\" class=\"dataframe\">\n",
              "  <thead>\n",
              "    <tr style=\"text-align: right;\">\n",
              "      <th></th>\n",
              "      <th>text</th>\n",
              "      <th>CleanedText</th>\n",
              "      <th>Subjectivity</th>\n",
              "      <th>Polarity</th>\n",
              "      <th>Analysis</th>\n",
              "    </tr>\n",
              "  </thead>\n",
              "  <tbody>\n",
              "    <tr>\n",
              "      <th>0</th>\n",
              "      <td>stayfrea alert corona virus spread through mon...</td>\n",
              "      <td>stayfrea alert corona virus spread money money...</td>\n",
              "      <td>0.0</td>\n",
              "      <td>0.0</td>\n",
              "      <td>Neutral</td>\n",
              "    </tr>\n",
              "    <tr>\n",
              "      <th>1</th>\n",
              "      <td>matrodamusic corona virus temporary house musi...</td>\n",
              "      <td>matrodamus corona virus temporari hous music f...</td>\n",
              "      <td>0.0</td>\n",
              "      <td>0.0</td>\n",
              "      <td>Neutral</td>\n",
              "    </tr>\n",
              "    <tr>\n",
              "      <th>2</th>\n",
              "      <td>gainbos whole entire world corona virus danger...</td>\n",
              "      <td>gainbo whole entir world corona virus danger j...</td>\n",
              "      <td>0.4</td>\n",
              "      <td>0.2</td>\n",
              "      <td>Positive</td>\n",
              "    </tr>\n",
              "    <tr>\n",
              "      <th>3</th>\n",
              "      <td>ellanjeferguson krystallsheree corona virus</td>\n",
              "      <td>ellanjeferguson krystallshere corona virus</td>\n",
              "      <td>0.0</td>\n",
              "      <td>0.0</td>\n",
              "      <td>Neutral</td>\n",
              "    </tr>\n",
              "    <tr>\n",
              "      <th>4</th>\n",
              "      <td>bradleoy corona virus said https wwfteavdch</td>\n",
              "      <td>bradleoy corona virus said https wwfteavdch</td>\n",
              "      <td>0.0</td>\n",
              "      <td>0.0</td>\n",
              "      <td>Neutral</td>\n",
              "    </tr>\n",
              "  </tbody>\n",
              "</table>\n",
              "</div>"
            ],
            "text/plain": [
              "                                                text  ...  Analysis\n",
              "0  stayfrea alert corona virus spread through mon...  ...   Neutral\n",
              "1  matrodamusic corona virus temporary house musi...  ...   Neutral\n",
              "2  gainbos whole entire world corona virus danger...  ...  Positive\n",
              "3        ellanjeferguson krystallsheree corona virus  ...   Neutral\n",
              "4        bradleoy corona virus said https wwfteavdch  ...   Neutral\n",
              "\n",
              "[5 rows x 5 columns]"
            ]
          },
          "metadata": {
            "tags": []
          },
          "execution_count": 28
        }
      ]
    },
    {
      "cell_type": "code",
      "metadata": {
        "id": "9aeY-jCCcLHu",
        "colab_type": "code",
        "colab": {}
      },
      "source": [
        "data.to_csv('processed_data.csv')"
      ],
      "execution_count": null,
      "outputs": []
    },
    {
      "cell_type": "code",
      "metadata": {
        "id": "3C7DbZO3xY2-",
        "colab_type": "code",
        "colab": {
          "base_uri": "https://localhost:8080/",
          "height": 404
        },
        "outputId": "9827d3d4-6574-4e56-b839-4df3b4bdf966"
      },
      "source": [
        "\n",
        "plt.figure(figsize=(8,6))\n",
        "#for i in range(0,clean_data.shape[0]):\n",
        "plt.scatter(data['Polarity'],data['Subjectivity'],color='Red')\n",
        "plt.title('Sentiment Analysis')\n",
        "plt.xlabel('Polarity')\n",
        "plt.ylabel('Subjectivity')\n",
        "plt.show()"
      ],
      "execution_count": null,
      "outputs": [
        {
          "output_type": "display_data",
          "data": {
            "image/png": "[encoded data removed]",
            "text/plain": [
              "<Figure size 576x432 with 1 Axes>"
            ]
          },
          "metadata": {
            "tags": [],
            "needs_background": "light"
          }
        }
      ]
    },
    {
      "cell_type": "code",
      "metadata": {
        "id": "iPxRxLCtxr3S",
        "colab_type": "code",
        "colab": {
          "base_uri": "https://localhost:8080/",
          "height": 85
        },
        "outputId": "9319eff9-f861-426d-b1f7-a05bc0e389ce"
      },
      "source": [
        "# value counts\n",
        "data['Analysis'].value_counts()"
      ],
      "execution_count": null,
      "outputs": [
        {
          "output_type": "execute_result",
          "data": {
            "text/plain": [
              "Neutral     114664\n",
              "Positive     48140\n",
              "Negative     37196\n",
              "Name: Analysis, dtype: int64"
            ]
          },
          "metadata": {
            "tags": []
          },
          "execution_count": 31
        }
      ]
    },
    {
      "cell_type": "code",
      "metadata": {
        "id": "m3ZB4QV3xz4-",
        "colab_type": "code",
        "colab": {
          "base_uri": "https://localhost:8080/",
          "height": 330
        },
        "outputId": "c21d1475-7c79-4c42-80a3-fdcd26f54c43"
      },
      "source": [
        "#plot and visualize the counts\n",
        "plt.title('Sentiment Analysis')\n",
        "plt.xlabel('Sentiment')\n",
        "plt.ylabel('Count')\n",
        "data['Analysis'].value_counts().plot(kind='bar')\n",
        "plt.show()"
      ],
      "execution_count": null,
      "outputs": [
        {
          "output_type": "display_data",
          "data": {
            "image/png": "[encoded data removed]",
            "text/plain": [
              "<Figure size 432x288 with 1 Axes>"
            ]
          },
          "metadata": {
            "tags": [],
            "needs_background": "light"
          }
        }
      ]
    },
    {
      "cell_type": "code",
      "metadata": {
        "id": "xNc-4kJ9ePqU",
        "colab_type": "code",
        "colab": {
          "base_uri": "https://localhost:8080/",
          "height": 238
        },
        "outputId": "1ec9aaeb-75c5-4f49-9924-66085013bfb0"
      },
      "source": [
        "data.head()"
      ],
      "execution_count": null,
      "outputs": [
        {
          "output_type": "execute_result",
          "data": {
            "text/html": [
              "<div>\n",
              "<style scoped>\n",
              "    .dataframe tbody tr th:only-of-type {\n",
              "        vertical-align: middle;\n",
              "    }\n",
              "\n",
              "    .dataframe tbody tr th {\n",
              "        vertical-align: top;\n",
              "    }\n",
              "\n",
              "    .dataframe thead th {\n",
              "        text-align: right;\n",
              "    }\n",
              "</style>\n",
              "<table border=\"1\" class=\"dataframe\">\n",
              "  <thead>\n",
              "    <tr style=\"text-align: right;\">\n",
              "      <th></th>\n",
              "      <th>text</th>\n",
              "      <th>CleanedText</th>\n",
              "      <th>Subjectivity</th>\n",
              "      <th>Polarity</th>\n",
              "      <th>Analysis</th>\n",
              "    </tr>\n",
              "  </thead>\n",
              "  <tbody>\n",
              "    <tr>\n",
              "      <th>0</th>\n",
              "      <td>stayfrea alert corona virus spread through mon...</td>\n",
              "      <td>stayfrea alert corona virus spread money money...</td>\n",
              "      <td>0.0</td>\n",
              "      <td>0.0</td>\n",
              "      <td>Neutral</td>\n",
              "    </tr>\n",
              "    <tr>\n",
              "      <th>1</th>\n",
              "      <td>matrodamusic corona virus temporary house musi...</td>\n",
              "      <td>matrodamus corona virus temporari hous music f...</td>\n",
              "      <td>0.0</td>\n",
              "      <td>0.0</td>\n",
              "      <td>Neutral</td>\n",
              "    </tr>\n",
              "    <tr>\n",
              "      <th>2</th>\n",
              "      <td>gainbos whole entire world corona virus danger...</td>\n",
              "      <td>gainbo whole entir world corona virus danger j...</td>\n",
              "      <td>0.4</td>\n",
              "      <td>0.2</td>\n",
              "      <td>Positive</td>\n",
              "    </tr>\n",
              "    <tr>\n",
              "      <th>3</th>\n",
              "      <td>ellanjeferguson krystallsheree corona virus</td>\n",
              "      <td>ellanjeferguson krystallshere corona virus</td>\n",
              "      <td>0.0</td>\n",
              "      <td>0.0</td>\n",
              "      <td>Neutral</td>\n",
              "    </tr>\n",
              "    <tr>\n",
              "      <th>4</th>\n",
              "      <td>bradleoy corona virus said https wwfteavdch</td>\n",
              "      <td>bradleoy corona virus said https wwfteavdch</td>\n",
              "      <td>0.0</td>\n",
              "      <td>0.0</td>\n",
              "      <td>Neutral</td>\n",
              "    </tr>\n",
              "  </tbody>\n",
              "</table>\n",
              "</div>"
            ],
            "text/plain": [
              "                                                text  ...  Analysis\n",
              "0  stayfrea alert corona virus spread through mon...  ...   Neutral\n",
              "1  matrodamusic corona virus temporary house musi...  ...   Neutral\n",
              "2  gainbos whole entire world corona virus danger...  ...  Positive\n",
              "3        ellanjeferguson krystallsheree corona virus  ...   Neutral\n",
              "4        bradleoy corona virus said https wwfteavdch  ...   Neutral\n",
              "\n",
              "[5 rows x 5 columns]"
            ]
          },
          "metadata": {
            "tags": []
          },
          "execution_count": 33
        }
      ]
    },
    {
      "cell_type": "code",
      "metadata": {
        "id": "gRB2ANTseSGa",
        "colab_type": "code",
        "colab": {}
      },
      "source": [
        "cleandata = data.drop(['text'],axis=1)"
      ],
      "execution_count": null,
      "outputs": []
    },
    {
      "cell_type": "code",
      "metadata": {
        "id": "Yc09UTW6ebgB",
        "colab_type": "code",
        "colab": {
          "base_uri": "https://localhost:8080/",
          "height": 204
        },
        "outputId": "da9d97e3-14ee-4111-d0ad-5325665abc22"
      },
      "source": [
        "cleandata.head()"
      ],
      "execution_count": null,
      "outputs": [
        {
          "output_type": "execute_result",
          "data": {
            "text/html": [
              "<div>\n",
              "<style scoped>\n",
              "    .dataframe tbody tr th:only-of-type {\n",
              "        vertical-align: middle;\n",
              "    }\n",
              "\n",
              "    .dataframe tbody tr th {\n",
              "        vertical-align: top;\n",
              "    }\n",
              "\n",
              "    .dataframe thead th {\n",
              "        text-align: right;\n",
              "    }\n",
              "</style>\n",
              "<table border=\"1\" class=\"dataframe\">\n",
              "  <thead>\n",
              "    <tr style=\"text-align: right;\">\n",
              "      <th></th>\n",
              "      <th>CleanedText</th>\n",
              "      <th>Subjectivity</th>\n",
              "      <th>Polarity</th>\n",
              "      <th>Analysis</th>\n",
              "    </tr>\n",
              "  </thead>\n",
              "  <tbody>\n",
              "    <tr>\n",
              "      <th>0</th>\n",
              "      <td>stayfrea alert corona virus spread money money...</td>\n",
              "      <td>0.0</td>\n",
              "      <td>0.0</td>\n",
              "      <td>Neutral</td>\n",
              "    </tr>\n",
              "    <tr>\n",
              "      <th>1</th>\n",
              "      <td>matrodamus corona virus temporari hous music f...</td>\n",
              "      <td>0.0</td>\n",
              "      <td>0.0</td>\n",
              "      <td>Neutral</td>\n",
              "    </tr>\n",
              "    <tr>\n",
              "      <th>2</th>\n",
              "      <td>gainbo whole entir world corona virus danger j...</td>\n",
              "      <td>0.4</td>\n",
              "      <td>0.2</td>\n",
              "      <td>Positive</td>\n",
              "    </tr>\n",
              "    <tr>\n",
              "      <th>3</th>\n",
              "      <td>ellanjeferguson krystallshere corona virus</td>\n",
              "      <td>0.0</td>\n",
              "      <td>0.0</td>\n",
              "      <td>Neutral</td>\n",
              "    </tr>\n",
              "    <tr>\n",
              "      <th>4</th>\n",
              "      <td>bradleoy corona virus said https wwfteavdch</td>\n",
              "      <td>0.0</td>\n",
              "      <td>0.0</td>\n",
              "      <td>Neutral</td>\n",
              "    </tr>\n",
              "  </tbody>\n",
              "</table>\n",
              "</div>"
            ],
            "text/plain": [
              "                                         CleanedText  ...  Analysis\n",
              "0  stayfrea alert corona virus spread money money...  ...   Neutral\n",
              "1  matrodamus corona virus temporari hous music f...  ...   Neutral\n",
              "2  gainbo whole entir world corona virus danger j...  ...  Positive\n",
              "3         ellanjeferguson krystallshere corona virus  ...   Neutral\n",
              "4        bradleoy corona virus said https wwfteavdch  ...   Neutral\n",
              "\n",
              "[5 rows x 4 columns]"
            ]
          },
          "metadata": {
            "tags": []
          },
          "execution_count": 35
        }
      ]
    },
    {
      "cell_type": "code",
      "metadata": {
        "id": "nnz9P7YCeel1",
        "colab_type": "code",
        "colab": {}
      },
      "source": [
        "cleandata.to_csv('processed_data')"
      ],
      "execution_count": null,
      "outputs": []
    }
  ]
}